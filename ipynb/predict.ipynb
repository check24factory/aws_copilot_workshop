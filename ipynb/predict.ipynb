{
 "cells": [
  {
   "cell_type": "code",
   "execution_count": 42,
   "outputs": [],
   "source": [
    "import joblib\n",
    "import pandas as pd\n"
   ],
   "metadata": {
    "collapsed": false,
    "ExecuteTime": {
     "end_time": "2024-09-04T10:57:45.475300Z",
     "start_time": "2024-09-04T10:57:45.465140Z"
    }
   }
  },
  {
   "cell_type": "code",
   "execution_count": 43,
   "outputs": [],
   "source": [
    "class ModelLoader:\n",
    "    def __init__(self, model_path: str):\n",
    "        \"\"\"Initialize the ModelLoader class and load the model and label encoder.\"\"\"\n",
    "        self.model_path = model_path\n",
    "        self.model = None\n",
    "        self.label_encoder = None\n",
    "        self.load()\n",
    "\n",
    "    def load(self):\n",
    "        \"\"\"Load the model and label encoder from the specified directory.\"\"\"\n",
    "        try:\n",
    "            self.model = joblib.load(f'{self.model_path}/iris_model.pkl')\n",
    "            self.label_encoder = joblib.load(f'{self.model_path}/label_encoder.pkl')\n",
    "            print(\"Model loaded successfully 👏\")\n",
    "        except FileNotFoundError as e:\n",
    "            print(f\"Error loading files: {e}\")\n",
    "        except Exception as e:\n",
    "            print(f\"An error occurred: {e}\")\n",
    "\n",
    "    def predict(self, new_data: pd.DataFrame):\n",
    "        \"\"\"Make predictions on new data.\"\"\"\n",
    "        if self.model is None or self.label_encoder is None:\n",
    "            raise ValueError(\"Model and label encoder need to be loaded before making predictions.\")\n",
    "\n",
    "        try:\n",
    "            predictions = self.model.predict(new_data)\n",
    "            predicted_classes = self.label_encoder.inverse_transform(predictions)\n",
    "            return predicted_classes\n",
    "        except Exception as e:\n",
    "            print(f\"An error occurred during prediction: {e}\")\n",
    "            raise e"
   ],
   "metadata": {
    "collapsed": false,
    "ExecuteTime": {
     "end_time": "2024-09-04T10:57:46.023372Z",
     "start_time": "2024-09-04T10:57:46.020623Z"
    }
   }
  },
  {
   "cell_type": "code",
   "execution_count": 44,
   "outputs": [
    {
     "name": "stdout",
     "output_type": "stream",
     "text": [
      "Model loaded successfully 👏\n"
     ]
    }
   ],
   "source": [
    "iris_model = ModelLoader(model_path='model_dir')"
   ],
   "metadata": {
    "collapsed": false,
    "ExecuteTime": {
     "end_time": "2024-09-04T10:57:46.769584Z",
     "start_time": "2024-09-04T10:57:46.766425Z"
    }
   }
  },
  {
   "cell_type": "code",
   "execution_count": 45,
   "outputs": [
    {
     "data": {
      "text/plain": "array(['Iris-setosa', 'Iris-versicolor'], dtype=object)"
     },
     "execution_count": 45,
     "metadata": {},
     "output_type": "execute_result"
    }
   ],
   "source": [
    "# Prepare new data for prediction\n",
    "sample_input = pd.DataFrame({\n",
    "    'sepal_length': [5.1, 6.2],\n",
    "    'sepal_width': [3.5, 2.8],\n",
    "    'petal_length': [1.4, 4.5],\n",
    "    'petal_width': [0.2, 1.5]\n",
    "})\n",
    "predictions = iris_model.predict(sample_input)\n",
    "predictions"
   ],
   "metadata": {
    "collapsed": false,
    "ExecuteTime": {
     "end_time": "2024-09-04T10:57:47.426568Z",
     "start_time": "2024-09-04T10:57:47.424326Z"
    }
   }
  },
  {
   "cell_type": "code",
   "execution_count": null,
   "outputs": [],
   "source": [],
   "metadata": {
    "collapsed": false
   }
  }
 ],
 "metadata": {
  "kernelspec": {
   "display_name": "Python 3",
   "language": "python",
   "name": "python3"
  },
  "language_info": {
   "codemirror_mode": {
    "name": "ipython",
    "version": 2
   },
   "file_extension": ".py",
   "mimetype": "text/x-python",
   "name": "python",
   "nbconvert_exporter": "python",
   "pygments_lexer": "ipython2",
   "version": "2.7.6"
  }
 },
 "nbformat": 4,
 "nbformat_minor": 0
}
